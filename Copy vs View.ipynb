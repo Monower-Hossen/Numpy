{
 "cells": [
  {
   "cell_type": "markdown",
   "id": "16a7d6c5-b205-4d89-9d26-625e0f892481",
   "metadata": {},
   "source": [
    "# Copy vs view"
   ]
  },
  {
   "cell_type": "code",
   "execution_count": 3,
   "id": "8a1384f0-ff0d-49ec-beae-65b10325fd89",
   "metadata": {},
   "outputs": [
    {
     "name": "stdout",
     "output_type": "stream",
     "text": [
      "var: [38  2  3  4]\n",
      "copy:  [1 2 3 4]\n"
     ]
    }
   ],
   "source": [
    "import numpy as np\n",
    "var = np.array ([1,2,3,4])\n",
    "\n",
    "co = var.copy()\n",
    "\n",
    "var [0] = 38\n",
    "\n",
    "print(\"var:\" , var)\n",
    "print(\"copy: \" , co)"
   ]
  },
  {
   "cell_type": "code",
   "execution_count": 4,
   "id": "46a5945f-c559-491b-a9b3-53a3e2f49aa9",
   "metadata": {},
   "outputs": [
    {
     "name": "stdout",
     "output_type": "stream",
     "text": [
      "x: [42  8  7  6  5]\n",
      "view :  [42  8  7  6  5]\n"
     ]
    }
   ],
   "source": [
    "x = np.array([9,8,7,6,5])\n",
    "\n",
    "vi = x.view()\n",
    "x[0]=42\n",
    "\n",
    "print(\"x:\",x)\n",
    "print(\"view : \" , vi)"
   ]
  },
  {
   "cell_type": "code",
   "execution_count": 5,
   "id": "55965e74-3e97-4355-841d-0066d83f978d",
   "metadata": {},
   "outputs": [
    {
     "name": "stdout",
     "output_type": "stream",
     "text": [
      "None\n",
      "[1 2 3 4 5]\n"
     ]
    }
   ],
   "source": [
    "import numpy as np\n",
    "\n",
    "arr = np.array([1, 2, 3, 4, 5])\n",
    "\n",
    "x = arr.copy()\n",
    "y = arr.view()\n",
    "\n",
    "print(x.base)\n",
    "print(y.base)"
   ]
  }
 ],
 "metadata": {
  "kernelspec": {
   "display_name": "Python 3 (ipykernel)",
   "language": "python",
   "name": "python3"
  },
  "language_info": {
   "codemirror_mode": {
    "name": "ipython",
    "version": 3
   },
   "file_extension": ".py",
   "mimetype": "text/x-python",
   "name": "python",
   "nbconvert_exporter": "python",
   "pygments_lexer": "ipython3",
   "version": "3.12.6"
  }
 },
 "nbformat": 4,
 "nbformat_minor": 5
}
