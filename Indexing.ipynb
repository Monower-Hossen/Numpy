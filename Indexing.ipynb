{
 "cells": [
  {
   "cell_type": "markdown",
   "id": "b646548e-9b82-404d-afef-0418a2af7b8f",
   "metadata": {},
   "source": [
    "## Indexing"
   ]
  },
  {
   "cell_type": "code",
   "execution_count": 2,
   "id": "8dd1332f-2dda-494b-a402-629408ac84e4",
   "metadata": {},
   "outputs": [
    {
     "name": "stdout",
     "output_type": "stream",
     "text": [
      "8\n",
      "8\n"
     ]
    }
   ],
   "source": [
    "import numpy as np\n",
    "\n",
    "var = np.array([9,8,7,6])\n",
    "\n",
    "\n",
    "print(var[1])\n",
    "print(var[-3])"
   ]
  },
  {
   "cell_type": "code",
   "execution_count": 4,
   "id": "afe29b99-55cf-476f-a626-491364f90729",
   "metadata": {},
   "outputs": [
    {
     "name": "stdout",
     "output_type": "stream",
     "text": [
      "[[9 8 7]\n",
      " [4 5 6]]\n",
      "2\n",
      "\n",
      "7\n"
     ]
    }
   ],
   "source": [
    "var1 = np.array([[9,8,7],[4,5,6]])\n",
    "\n",
    "print(var1)\n",
    "print(var1.ndim)\n",
    "print()\n",
    "\n",
    "print(var1[0,2])"
   ]
  },
  {
   "cell_type": "code",
   "execution_count": 9,
   "id": "5a4aca13-1d95-4dfa-a211-b5dbe4baa80f",
   "metadata": {},
   "outputs": [
    {
     "name": "stdout",
     "output_type": "stream",
     "text": [
      "[[[1 2]\n",
      "  [4 2]]]\n",
      "3\n",
      "\n",
      "2\n"
     ]
    }
   ],
   "source": [
    "var2 = np.array([[[1,2],[4,2]]])\n",
    "\n",
    "print(var2)\n",
    "print(var2.ndim)\n",
    "print()\n",
    "\n",
    "print(var2[0,1,1])"
   ]
  },
  {
   "cell_type": "markdown",
   "id": "635151fa-065f-4f82-96c0-7ac9461c162b",
   "metadata": {},
   "source": [
    "## Slicing"
   ]
  },
  {
   "cell_type": "code",
   "execution_count": 13,
   "id": "ae5c4f5e-5744-4913-b0c2-a4a01bf4e16a",
   "metadata": {},
   "outputs": [
    {
     "name": "stdout",
     "output_type": "stream",
     "text": [
      "[1 2 3 4 5 6 7]\n",
      "\n",
      "2 to 5 :  [2 3 4 5]\n",
      "2 to End :  [2 3 4 5 6 7]\n",
      "Start to 5 :  [1 2 3 4 5]\n",
      "Stop :  [1 3 5 7]\n"
     ]
    }
   ],
   "source": [
    " import numpy as np\n",
    "\n",
    "var = np.array ([1,2,3,4,5,6,7])\n",
    "\n",
    "print(var)\n",
    "print()\n",
    "print(\"2 to 5 : \" , var [1:5])\n",
    "print(\"2 to End : \" , var[1:])\n",
    "print(\"Start to 5 : \", var[:5])\n",
    "print(\"Stop : \" ,var[::2])"
   ]
  },
  {
   "cell_type": "code",
   "execution_count": 17,
   "id": "c9c980a8-262e-4d31-9fb4-e33335b6b103",
   "metadata": {},
   "outputs": [
    {
     "name": "stdout",
     "output_type": "stream",
     "text": [
      "[[ 1  2  3  4  5]\n",
      " [ 6  7  8  9 10]\n",
      " [11 12 13 14 15]]\n",
      "\n",
      "8 to 5 :  [ 7  8  9 10]\n"
     ]
    }
   ],
   "source": [
    "var1 = np.array ([[1,2,3,4,5],[6,7,8,9,10],[11,12,13,14,15]])\n",
    "\n",
    "print(var1)\n",
    "print()\n",
    "\n",
    "\n",
    "print(\"8 to 5 : \", var1[1,1:])"
   ]
  },
  {
   "cell_type": "code",
   "execution_count": null,
   "id": "3e62ebbc-d678-48ab-9862-76d03d2a1fa2",
   "metadata": {},
   "outputs": [],
   "source": []
  }
 ],
 "metadata": {
  "kernelspec": {
   "display_name": "Python 3 (ipykernel)",
   "language": "python",
   "name": "python3"
  },
  "language_info": {
   "codemirror_mode": {
    "name": "ipython",
    "version": 3
   },
   "file_extension": ".py",
   "mimetype": "text/x-python",
   "name": "python",
   "nbconvert_exporter": "python",
   "pygments_lexer": "ipython3",
   "version": "3.12.6"
  }
 },
 "nbformat": 4,
 "nbformat_minor": 5
}
