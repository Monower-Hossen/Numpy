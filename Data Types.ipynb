{
 "cells": [
  {
   "cell_type": "markdown",
   "id": "bf5f96e6-161b-449d-83d4-c895f55a0ed9",
   "metadata": {},
   "source": [
    "## Data Types"
   ]
  },
  {
   "cell_type": "markdown",
   "id": "b13259f2-90ac-4452-b025-0e3e8b14879a",
   "metadata": {},
   "source": [
    "strings - used to represent text data, the text is given under quote marks. e.g. \"ABCD\"\n",
    "integer - used to represent integer numbers. e.g. -1, -2, -3\n",
    "float - used to represent real numbers. e.g. 1.2, 42.42\n",
    "boolean - used to represent True or False.\n",
    "complex - used to represent complex numbers. e.g. 1.0 + 2.0j, 1.5 + 2.5j"
   ]
  },
  {
   "cell_type": "code",
   "execution_count": 7,
   "id": "f16b5336-ae4c-4fc3-b36f-9afacafa3366",
   "metadata": {},
   "outputs": [
    {
     "name": "stdout",
     "output_type": "stream",
     "text": [
      "int64\n"
     ]
    }
   ],
   "source": [
    "import numpy as np\n",
    "\n",
    "arr = np.array([1, 2, 3, 4])\n",
    "\n",
    "print(arr.dtype)"
   ]
  },
  {
   "cell_type": "code",
   "execution_count": 2,
   "id": "44655904-f1dd-46cb-acdd-9e886f348b64",
   "metadata": {},
   "outputs": [
    {
     "name": "stdout",
     "output_type": "stream",
     "text": [
      "<U6\n"
     ]
    }
   ],
   "source": [
    "import numpy as np\n",
    "\n",
    "arr = np.array(['apple', 'banana', 'cherry'])\n",
    "\n",
    "print(arr.dtype)"
   ]
  },
  {
   "cell_type": "code",
   "execution_count": 3,
   "id": "0b5a4a41-4d83-4856-9b99-d4451fe8bbed",
   "metadata": {},
   "outputs": [
    {
     "name": "stdout",
     "output_type": "stream",
     "text": [
      "<U21\n"
     ]
    }
   ],
   "source": [
    "import numpy as np\n",
    "\n",
    "arr = np.array(['apple', 'banana', 'cherry',1,2,3])\n",
    "\n",
    "print(arr.dtype)"
   ]
  },
  {
   "cell_type": "code",
   "execution_count": 6,
   "id": "2da4acc4-604e-44a6-9185-04ed317908d4",
   "metadata": {},
   "outputs": [
    {
     "name": "stdout",
     "output_type": "stream",
     "text": [
      "float32\n"
     ]
    }
   ],
   "source": [
    "import numpy as np\n",
    "\n",
    "arr = np.array([1,2,3,4,8], dtype = \"f\")\n",
    "\n",
    "print(arr.dtype)"
   ]
  },
  {
   "cell_type": "code",
   "execution_count": 11,
   "id": "72df84e6-8d3d-4757-844e-52e64ec60d37",
   "metadata": {},
   "outputs": [
    {
     "name": "stdout",
     "output_type": "stream",
     "text": [
      "Data type : float32\n",
      "Data Type: float32\n",
      "[1. 2. 3. 4. 8.]\n",
      "[1. 2. 3. 4. 8.]\n"
     ]
    }
   ],
   "source": [
    "import numpy as np\n",
    "\n",
    "arr = np.array([1,2,3,4,8], dtype = \"f\")\n",
    "new = np.float32(arr)\n",
    "\n",
    "print('Data type :', arr.dtype)\n",
    "print(\"Data Type:\" ,new.dtype)\n",
    "\n",
    "print(arr)\n",
    "print(new)"
   ]
  },
  {
   "cell_type": "code",
   "execution_count": 13,
   "id": "36fc6774-7d66-4698-96d0-5e717e6aecec",
   "metadata": {},
   "outputs": [
    {
     "name": "stdout",
     "output_type": "stream",
     "text": [
      "[1 2 3 4 8]\n",
      "[1. 2. 3. 4. 8.]\n"
     ]
    }
   ],
   "source": [
    "import numpy as np\n",
    "\n",
    "arr = np.array([1,2,3,4,8])\n",
    "new = arr.astype(float)\n",
    "\n",
    "print(arr)\n",
    "print(new)"
   ]
  },
  {
   "cell_type": "markdown",
   "id": "3edec93e-59c7-4750-9853-09b467bcb9f3",
   "metadata": {},
   "source": [
    "## Arithmatic Operation"
   ]
  },
  {
   "cell_type": "code",
   "execution_count": 14,
   "id": "330d731b-659b-48fd-b028-68d22ed11fdb",
   "metadata": {},
   "outputs": [
    {
     "name": "stdout",
     "output_type": "stream",
     "text": [
      "[4 5 6 7]\n"
     ]
    }
   ],
   "source": [
    "import numpy as np\n",
    "\n",
    "var = np.array ([1,2,3,4])\n",
    "\n",
    "varadd = var+3\n",
    "\n",
    "print(varadd)"
   ]
  },
  {
   "cell_type": "code",
   "execution_count": 15,
   "id": "d8d59463-360f-47b9-b495-e937988e1bee",
   "metadata": {},
   "outputs": [
    {
     "name": "stdout",
     "output_type": "stream",
     "text": [
      "[2 4 6 8]\n"
     ]
    }
   ],
   "source": [
    "import numpy as np\n",
    "\n",
    "var = np.array ([1,2,3,4])\n",
    "var1 = np.array([1,2,3,4])\n",
    "\n",
    "varadd = var+var1\n",
    "\n",
    "print(varadd)"
   ]
  },
  {
   "cell_type": "code",
   "execution_count": 16,
   "id": "433c5297-9cd6-4e39-a66d-cc457ed335a1",
   "metadata": {},
   "outputs": [
    {
     "name": "stdout",
     "output_type": "stream",
     "text": [
      "[1 2 0 1]\n"
     ]
    }
   ],
   "source": [
    "import numpy as np\n",
    "\n",
    "var = np.array ([1,2,3,4])\n",
    "\n",
    "varadd = var%3\n",
    "\n",
    "print(varadd)"
   ]
  },
  {
   "cell_type": "code",
   "execution_count": 17,
   "id": "33b557e4-0c00-4dad-9168-4d04a2aa8dc1",
   "metadata": {},
   "outputs": [
    {
     "name": "stdout",
     "output_type": "stream",
     "text": [
      "[-2 -1  0  1]\n"
     ]
    }
   ],
   "source": [
    "import numpy as np\n",
    "\n",
    "var = np.array ([1,2,3,4])\n",
    "\n",
    "varadd = var-3\n",
    "\n",
    "print(varadd)"
   ]
  },
  {
   "cell_type": "code",
   "execution_count": 18,
   "id": "43851acc-b789-402a-9e0a-ccf926f28684",
   "metadata": {},
   "outputs": [
    {
     "name": "stdout",
     "output_type": "stream",
     "text": [
      "[4 5 6 7]\n"
     ]
    }
   ],
   "source": [
    "import numpy as np\n",
    "\n",
    "var = np.array ([1,2,3,4])\n",
    "var1 = np.array([1,2,3,4])\n",
    "\n",
    "varadd = np.add(var1,3)\n",
    "\n",
    "print(varadd)"
   ]
  },
  {
   "cell_type": "markdown",
   "id": "ac66bb7d-b476-4a38-b98d-b012bb972184",
   "metadata": {},
   "source": [
    "## 2D Array"
   ]
  },
  {
   "cell_type": "code",
   "execution_count": 20,
   "id": "4cfb55cd-2ec0-4161-963c-e68a1be9fe3b",
   "metadata": {},
   "outputs": [
    {
     "name": "stdout",
     "output_type": "stream",
     "text": [
      "[[1 2 3 4]\n",
      " [1 2 3 4]]\n",
      "\n",
      "[[1 2 3 4]\n",
      " [1 2 3 4]]\n",
      "\n",
      "[[2 4 6 8]\n",
      " [2 4 6 8]]\n"
     ]
    }
   ],
   "source": [
    "import numpy as np\n",
    "\n",
    "var = np.array ([[1,2,3,4] , [1,2,3,4]])\n",
    "var1 = np.array([[1,2,3,4],[1,2,3,4]])\n",
    "\n",
    "print(var)\n",
    "print()\n",
    "\n",
    "print (var1)\n",
    "print()\n",
    "\n",
    "varadd =  var+var1\n",
    "\n",
    "print(varadd)"
   ]
  },
  {
   "cell_type": "code",
   "execution_count": 2,
   "id": "429d6896-48ce-4921-87ef-871d483d5af7",
   "metadata": {},
   "outputs": [
    {
     "name": "stdout",
     "output_type": "stream",
     "text": [
      "min :  1\n",
      "max :  6\n"
     ]
    }
   ],
   "source": [
    "import numpy as np\n",
    "\n",
    "var =np.array([1,2,3,4,5,6])\n",
    "print(\"min : \",np.min(var))\n",
    "print(\"max : \", np.max(var))"
   ]
  },
  {
   "cell_type": "code",
   "execution_count": 5,
   "id": "407a33ce-22f2-4d2d-9af9-0232f78c45b8",
   "metadata": {},
   "outputs": [
    {
     "name": "stdout",
     "output_type": "stream",
     "text": [
      "min :  1 0\n",
      "max :  6 5\n",
      "sqrt :  [1.         1.41421356 1.73205081 2.         2.23606798 2.44948974]\n"
     ]
    }
   ],
   "source": [
    "import numpy as np\n",
    "\n",
    "var =np.array([1,2,3,4,5,6])\n",
    "print(\"min : \",np.min(var),np.argmin(var))\n",
    "print(\"max : \", np.max(var),np.argmax(var))\n",
    "print(\"sqrt : \",np.sqrt(var))"
   ]
  },
  {
   "cell_type": "code",
   "execution_count": 4,
   "id": "dba7d02c-1d90-4828-92ae-0154ab6bae1d",
   "metadata": {},
   "outputs": [
    {
     "name": "stdout",
     "output_type": "stream",
     "text": [
      "[1 5]\n"
     ]
    }
   ],
   "source": [
    "var1 = np.array([[2,1,3],[9,5,6]])\n",
    "\n",
    "print (np.min(var1,axis=1))"
   ]
  },
  {
   "cell_type": "code",
   "execution_count": 8,
   "id": "08ff3cd7-771e-4335-a851-59b6fb13822b",
   "metadata": {},
   "outputs": [
    {
     "name": "stdout",
     "output_type": "stream",
     "text": [
      "[ 0.90929743  0.14112001 -0.7568025  -0.95892427]\n",
      "[-0.41614684 -0.9899925  -0.65364362  0.28366219]\n",
      "[ 2  5  9 14]\n"
     ]
    }
   ],
   "source": [
    "var2 = np.array([2,3,4,5])\n",
    "print(np.sin(var2))\n",
    "print(np.cos(var2))\n",
    "print(np.cumsum(var2))"
   ]
  },
  {
   "cell_type": "code",
   "execution_count": null,
   "id": "7f4c0cfb-d056-4a81-a6ed-2f376cd0071c",
   "metadata": {},
   "outputs": [],
   "source": []
  }
 ],
 "metadata": {
  "kernelspec": {
   "display_name": "Python 3 (ipykernel)",
   "language": "python",
   "name": "python3"
  },
  "language_info": {
   "codemirror_mode": {
    "name": "ipython",
    "version": 3
   },
   "file_extension": ".py",
   "mimetype": "text/x-python",
   "name": "python",
   "nbconvert_exporter": "python",
   "pygments_lexer": "ipython3",
   "version": "3.12.6"
  }
 },
 "nbformat": 4,
 "nbformat_minor": 5
}
