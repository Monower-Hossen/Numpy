{
 "cells": [
  {
   "cell_type": "markdown",
   "id": "a6b45634-a983-4219-9203-50dc3dd9db79",
   "metadata": {},
   "source": [
    "# Search"
   ]
  },
  {
   "cell_type": "markdown",
   "id": "f4394898-072e-4653-81ed-2518767c8449",
   "metadata": {},
   "source": [
    "Search array: seacrh an array for a certain value and return the indexes that get a match."
   ]
  },
  {
   "cell_type": "code",
   "execution_count": 2,
   "id": "ed872ecd-fa72-43ec-9546-a641dcee499a",
   "metadata": {},
   "outputs": [
    {
     "name": "stdout",
     "output_type": "stream",
     "text": [
      "(array([2, 6]),)\n"
     ]
    }
   ],
   "source": [
    "import numpy as np\n",
    "\n",
    "var = np.array([1,2,3,4,5,6,3,4,8,9])\n",
    "\n",
    "x = np.where(var == 3)\n",
    "\n",
    "print(x)"
   ]
  },
  {
   "cell_type": "code",
   "execution_count": 5,
   "id": "9525cf74-758a-4c10-987e-a7b8303f9529",
   "metadata": {},
   "outputs": [
    {
     "name": "stdout",
     "output_type": "stream",
     "text": [
      "(array([1, 3, 5, 7, 8]),)\n"
     ]
    }
   ],
   "source": [
    "import numpy as np\n",
    "\n",
    "var = np.array([1,2,3,4,5,6,3,4,8,9])\n",
    "\n",
    "x = np.where((var%2)  == 0)\n",
    "\n",
    "print(x)"
   ]
  },
  {
   "cell_type": "code",
   "execution_count": 6,
   "id": "d25f475a-3011-4601-b3e3-f273fdeef50d",
   "metadata": {},
   "outputs": [
    {
     "name": "stdout",
     "output_type": "stream",
     "text": [
      "4\n"
     ]
    }
   ],
   "source": [
    "import numpy as np\n",
    "\n",
    "var1 = np.array([1,2,3,4,5,6,3,4,8,9])\n",
    "\n",
    "x1 = np.searchsorted(var1,5)\n",
    "\n",
    "print(x1)"
   ]
  },
  {
   "cell_type": "code",
   "execution_count": 12,
   "id": "9defb317-89a3-4ac2-84cf-59f8dfae99d2",
   "metadata": {},
   "outputs": [
    {
     "name": "stdout",
     "output_type": "stream",
     "text": [
      "[3 3 5]\n"
     ]
    }
   ],
   "source": [
    "import numpy as np\n",
    "\n",
    "var1 = np.array([1,2,3,7,8,9])\n",
    "\n",
    "x1 = np.searchsorted(var1,[4,5,8],side = 'right')\n",
    "\n",
    "print(x1)"
   ]
  },
  {
   "cell_type": "markdown",
   "id": "3b79eae4-e7dd-4b9f-a824-167be02caa25",
   "metadata": {},
   "source": [
    " # Sort"
   ]
  },
  {
   "cell_type": "code",
   "execution_count": 13,
   "id": "4ef9e356-5ecd-4551-9f71-78adb6f6b446",
   "metadata": {},
   "outputs": [
    {
     "name": "stdout",
     "output_type": "stream",
     "text": [
      "[ 1  2  3  3  4  5  5  6  7  7  8  9 12]\n"
     ]
    }
   ],
   "source": [
    "var2 = np.array ([4,2,3,1,12,5,6,7,3,5,7,8,9])\n",
    "\n",
    "print(np.sort(var2))"
   ]
  },
  {
   "cell_type": "code",
   "execution_count": 14,
   "id": "07e6b502-26a6-42b0-886f-94becde18efa",
   "metadata": {},
   "outputs": [
    {
     "name": "stdout",
     "output_type": "stream",
     "text": [
      "['a' 'd' 'f' 's']\n"
     ]
    }
   ],
   "source": [
    "var2 = np.array (['a','s','d','f'])\n",
    "\n",
    "print(np.sort(var2))"
   ]
  },
  {
   "cell_type": "code",
   "execution_count": 15,
   "id": "db080b7f-d0be-4473-9620-5ff14096e60b",
   "metadata": {},
   "outputs": [
    {
     "name": "stdout",
     "output_type": "stream",
     "text": [
      "[[ 2  3  4]\n",
      " [ 1  5 12]\n",
      " [ 3  6  7]]\n"
     ]
    }
   ],
   "source": [
    "var2 = np.array ([[4,2,3,],[1,12,5],[6,7,3]])\n",
    "\n",
    "print(np.sort(var2))"
   ]
  },
  {
   "cell_type": "markdown",
   "id": "7f31a2e7-29dd-40a3-8c74-94842bf89c55",
   "metadata": {},
   "source": [
    "# Filter"
   ]
  },
  {
   "cell_type": "code",
   "execution_count": 17,
   "id": "dd27fc96-fa78-4278-9ab0-db8b9d1b352d",
   "metadata": {},
   "outputs": [
    {
     "name": "stdout",
     "output_type": "stream",
     "text": [
      "(array(['a', 's', 'd', 'f'], dtype='<U1'), [[True, False, False, True]])\n",
      "<class 'tuple'>\n"
     ]
    }
   ],
   "source": [
    "var3 = np.array (['a','s','d','f'])\n",
    "\n",
    "f = [True,False,False,True]\n",
    "\n",
    "new_arr = var3 ,[f]\n",
    "\n",
    "print(new_arr)\n",
    "print(type(new_arr))"
   ]
  }
 ],
 "metadata": {
  "kernelspec": {
   "display_name": "Python 3 (ipykernel)",
   "language": "python",
   "name": "python3"
  },
  "language_info": {
   "codemirror_mode": {
    "name": "ipython",
    "version": 3
   },
   "file_extension": ".py",
   "mimetype": "text/x-python",
   "name": "python",
   "nbconvert_exporter": "python",
   "pygments_lexer": "ipython3",
   "version": "3.12.6"
  }
 },
 "nbformat": 4,
 "nbformat_minor": 5
}
