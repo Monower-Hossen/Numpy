{
 "cells": [
  {
   "cell_type": "markdown",
   "id": "477b0437-e8ae-4ed5-b727-bece4e533634",
   "metadata": {},
   "source": [
    " # Insert"
   ]
  },
  {
   "cell_type": "code",
   "execution_count": 16,
   "id": "59e2cbd6-0d91-446c-b568-20c2a82ef46e",
   "metadata": {},
   "outputs": [
    {
     "name": "stdout",
     "output_type": "stream",
     "text": [
      "[1 2 3 4]\n"
     ]
    }
   ],
   "source": [
    "import numpy as np\n",
    "\n",
    "x = np.array ([1,2,3,4])\n",
    "\n",
    "print(x)"
   ]
  },
  {
   "cell_type": "code",
   "execution_count": 17,
   "id": "5809955c-fbb3-4a0b-8d18-3b61bb26964b",
   "metadata": {},
   "outputs": [
    {
     "name": "stdout",
     "output_type": "stream",
     "text": [
      "[1 2 3 4]\n",
      "[ 1  2 40  3  4]\n"
     ]
    }
   ],
   "source": [
    "import numpy as np\n",
    "\n",
    "x = np.array ([1,2,3,4])\n",
    "\n",
    "print(x)\n",
    "\n",
    "v =np.insert (x, 2 , 40)\n",
    "\n",
    "print(v)"
   ]
  },
  {
   "cell_type": "code",
   "execution_count": 18,
   "id": "0daedc49-8dd7-436a-9735-94c4673edc3c",
   "metadata": {},
   "outputs": [
    {
     "name": "stdout",
     "output_type": "stream",
     "text": [
      "[1 2 3 4]\n",
      "[ 1  2 40  3  4 40]\n"
     ]
    }
   ],
   "source": [
    "import numpy as np\n",
    "\n",
    "x = np.array ([1,2,3,4])\n",
    "\n",
    "print(x)\n",
    "\n",
    "v =np.insert (x, (2,4) , 40)\n",
    "\n",
    "print(v)"
   ]
  },
  {
   "cell_type": "code",
   "execution_count": 19,
   "id": "bba92efc-5f0e-489f-a67b-8514984e43cb",
   "metadata": {},
   "outputs": [
    {
     "name": "stdout",
     "output_type": "stream",
     "text": [
      "[1 2 3 4]\n",
      "[1.  2.  3.  4.  6.8]\n"
     ]
    }
   ],
   "source": [
    "import numpy as np\n",
    "\n",
    "x = np.array ([1,2,3,4])\n",
    "\n",
    "print(x)\n",
    "\n",
    "v = np.append(x,6.8)\n",
    "\n",
    "print(v)"
   ]
  },
  {
   "cell_type": "code",
   "execution_count": 20,
   "id": "a631449a-fd2c-4db9-bc28-3c8711654193",
   "metadata": {},
   "outputs": [
    {
     "name": "stdout",
     "output_type": "stream",
     "text": [
      "[[ 1  3  4]\n",
      " [ 1  3  4]\n",
      " [22 23 24]]\n"
     ]
    }
   ],
   "source": [
    "import numpy as np\n",
    "\n",
    "x1= np.array ([[1,3,4],[1,3,4]])\n",
    "\n",
    "v1 =np.insert (x1, 2,[22,23,24], axis = 0)\n",
    "\n",
    "print(v1)"
   ]
  },
  {
   "cell_type": "markdown",
   "id": "5ef7e5ba-2447-46ca-9e0e-7b360ac7d07d",
   "metadata": {},
   "source": [
    " # Delete"
   ]
  },
  {
   "cell_type": "code",
   "execution_count": 15,
   "id": "2bfe23c8-83f5-4834-bb7f-8a04300c2b4e",
   "metadata": {},
   "outputs": [
    {
     "name": "stdout",
     "output_type": "stream",
     "text": [
      "[1 2 3 4]\n",
      "[1 2 4]\n"
     ]
    }
   ],
   "source": [
    "import numpy as np\n",
    "\n",
    "x = np.array ([1,2,3,4])\n",
    "\n",
    "print(x)\n",
    "\n",
    "v = np.delete(x,2)\n",
    "\n",
    "print(v)"
   ]
  },
  {
   "cell_type": "code",
   "execution_count": null,
   "id": "2a652fd7-b0bc-4ff1-98b7-762babb6c7ce",
   "metadata": {},
   "outputs": [],
   "source": []
  }
 ],
 "metadata": {
  "kernelspec": {
   "display_name": "Python 3 (ipykernel)",
   "language": "python",
   "name": "python3"
  },
  "language_info": {
   "codemirror_mode": {
    "name": "ipython",
    "version": 3
   },
   "file_extension": ".py",
   "mimetype": "text/x-python",
   "name": "python",
   "nbconvert_exporter": "python",
   "pygments_lexer": "ipython3",
   "version": "3.12.6"
  }
 },
 "nbformat": 4,
 "nbformat_minor": 5
}
