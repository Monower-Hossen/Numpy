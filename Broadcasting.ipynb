{
 "cells": [
  {
   "cell_type": "code",
   "execution_count": 1,
   "id": "e0055938-51f8-4bfa-9557-ff17900a4f5f",
   "metadata": {},
   "outputs": [
    {
     "name": "stdout",
     "output_type": "stream",
     "text": [
      "(3,)\n",
      "\n",
      "[1 2 3]\n",
      "\n"
     ]
    }
   ],
   "source": [
    "import numpy as np\n",
    "\n",
    "var1 = np.array ([1,2,3])\n",
    "print(var1.shape)\n",
    "print()\n",
    "print(var1)\n",
    "print()"
   ]
  },
  {
   "cell_type": "code",
   "execution_count": 2,
   "id": "b0a226cf-7905-4fd0-8a7c-d5bd29ec4c45",
   "metadata": {},
   "outputs": [
    {
     "name": "stdout",
     "output_type": "stream",
     "text": [
      "(3,)\n",
      "\n",
      "[1 2 3]\n",
      "\n",
      "(3, 1)\n",
      "\n",
      "[[1]\n",
      " [2]\n",
      " [3]]\n"
     ]
    }
   ],
   "source": [
    "import numpy as np\n",
    "\n",
    "var1 = np.array ([1,2,3])\n",
    "print(var1.shape)\n",
    "print()\n",
    "print(var1)\n",
    "print()\n",
    "\n",
    "\n",
    "var2 = np.array([[1],[2],[3]])\n",
    "print(var2.shape)\n",
    "print()\n",
    "print(var2)"
   ]
  },
  {
   "cell_type": "code",
   "execution_count": 4,
   "id": "9deb95ae-0246-485d-b3d3-ff14f63ac75a",
   "metadata": {},
   "outputs": [
    {
     "name": "stdout",
     "output_type": "stream",
     "text": [
      "(3,)\n",
      "\n",
      "[1 2 3]\n",
      "\n",
      "(3, 1)\n",
      "\n",
      "[[1]\n",
      " [2]\n",
      " [3]]\n",
      "\n",
      "[[2 3 4]\n",
      " [3 4 5]\n",
      " [4 5 6]]\n"
     ]
    }
   ],
   "source": [
    "import numpy as np\n",
    "\n",
    "var1 = np.array ([1,2,3])\n",
    "print(var1.shape)\n",
    "print()\n",
    "print(var1)\n",
    "print()\n",
    "\n",
    "\n",
    "var2 = np.array([[1],[2],[3]])\n",
    "print(var2.shape)\n",
    "print()\n",
    "print(var2)\n",
    "print()\n",
    "print(var1+var2)"
   ]
  },
  {
   "cell_type": "code",
   "execution_count": 4,
   "id": "c2e39cb7-d431-4fbb-a2d8-f654b042a359",
   "metadata": {},
   "outputs": [
    {
     "name": "stdout",
     "output_type": "stream",
     "text": [
      "(3,)\n",
      "\n",
      "[1 2 3]\n",
      "\n",
      "(3, 1)\n",
      "\n",
      "[[1]\n",
      " [2]\n",
      " [3]]\n",
      "\n",
      "[[2 3 4]\n",
      " [3 4 5]\n",
      " [4 5 6]]\n"
     ]
    }
   ],
   "source": [
    "import numpy as np\n",
    "\n",
    "var3 = np.array([[1],[2],[3]])\n",
    "print(var2.shape)\n",
    "\n",
    "var4 = np.array([])\n",
    "print(var2)\n",
    "print()\n",
    "print(var1+var2)"
   ]
  },
  {
   "cell_type": "code",
   "execution_count": null,
   "id": "59fa0383-8914-4815-9662-6c1033c9e978",
   "metadata": {},
   "outputs": [],
   "source": []
  }
 ],
 "metadata": {
  "kernelspec": {
   "display_name": "Python 3 (ipykernel)",
   "language": "python",
   "name": "python3"
  },
  "language_info": {
   "codemirror_mode": {
    "name": "ipython",
    "version": 3
   },
   "file_extension": ".py",
   "mimetype": "text/x-python",
   "name": "python",
   "nbconvert_exporter": "python",
   "pygments_lexer": "ipython3",
   "version": "3.12.6"
  }
 },
 "nbformat": 4,
 "nbformat_minor": 5
}
