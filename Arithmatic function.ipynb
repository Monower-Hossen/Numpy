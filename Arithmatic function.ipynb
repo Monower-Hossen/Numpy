{
 "cells": [
  {
   "cell_type": "markdown",
   "id": "72538d5b-d768-4801-b0b5-7e41aeb59d56",
   "metadata": {},
   "source": [
    "# Shuffle"
   ]
  },
  {
   "cell_type": "code",
   "execution_count": 1,
   "id": "18d326bc-7248-4bf0-8fe9-c80e064e175a",
   "metadata": {},
   "outputs": [
    {
     "name": "stdout",
     "output_type": "stream",
     "text": [
      "[3 4 5 6 2 1]\n"
     ]
    }
   ],
   "source": [
    "import numpy as np\n",
    "\n",
    "var = np.array([1,2,3,4,5,6])\n",
    "\n",
    "np.random.shuffle(var)\n",
    "\n",
    "print(var)"
   ]
  },
  {
   "cell_type": "markdown",
   "id": "409d24e0-a186-411d-a3b3-f2e644f634c7",
   "metadata": {},
   "source": [
    "# Unique"
   ]
  },
  {
   "cell_type": "code",
   "execution_count": 2,
   "id": "becbd05e-962c-4e03-a045-c9496d1650e5",
   "metadata": {},
   "outputs": [
    {
     "name": "stdout",
     "output_type": "stream",
     "text": [
      "[0 1 2 3 4 8 9]\n"
     ]
    }
   ],
   "source": [
    "var1 = np.array([1,2,3,2,3,8,9,0,4])\n",
    "\n",
    "x  = np.unique(var1)\n",
    "\n",
    "print(x)"
   ]
  },
  {
   "cell_type": "code",
   "execution_count": 4,
   "id": "e5ac68e0-af45-4e69-950e-0e7123b5666d",
   "metadata": {},
   "outputs": [
    {
     "name": "stdout",
     "output_type": "stream",
     "text": [
      "(array([0, 1, 2, 3, 4, 8, 9]), array([7, 0, 1, 2, 8, 5, 6]), array([1, 1, 2, 2, 1, 1, 1]))\n"
     ]
    }
   ],
   "source": [
    "var1 = np.array([1,2,3,2,3,8,9,0,4])\n",
    "\n",
    "x  = np.unique(var1, return_index = True ,return_counts = True)\n",
    "\n",
    "print(x)"
   ]
  },
  {
   "cell_type": "code",
   "execution_count": 7,
   "id": "fcd93f83-adf1-4554-9f18-4e4c058394e8",
   "metadata": {},
   "outputs": [
    {
     "name": "stdout",
     "output_type": "stream",
     "text": [
      "[[1 2]\n",
      " [3 4]\n",
      " [5 6]]\n"
     ]
    }
   ],
   "source": [
    "var2 = np.array([1,2,3,4,5,6])\n",
    "\n",
    "y =np.resize (var2,(3,2))\n",
    "\n",
    "print(y)"
   ]
  },
  {
   "cell_type": "code",
   "execution_count": 13,
   "id": "1b1d5c4a-a02e-43dc-a9f8-8b60a137c903",
   "metadata": {},
   "outputs": [
    {
     "name": "stdout",
     "output_type": "stream",
     "text": [
      "[[1 2]\n",
      " [3 4]\n",
      " [5 6]]\n",
      "\n",
      "Flatten : [1 3 5 2 4 6]\n",
      "Ravel : [1 2 3 4 5 6]\n"
     ]
    }
   ],
   "source": [
    "var2 = np.array([1,2,3,4,5,6])\n",
    "\n",
    "y =np.resize (var2,(3,2))\n",
    "\n",
    "print(y)\n",
    "print()\n",
    "print(\"Flatten :\" ,y.flatten(order = 'F'))\n",
    "print('Ravel :' ,np.ravel(y,order = 'a'))"
   ]
  },
  {
   "cell_type": "code",
   "execution_count": null,
   "id": "5ed42298-0dc6-4161-a57b-1a99ecc0028e",
   "metadata": {},
   "outputs": [],
   "source": []
  }
 ],
 "metadata": {
  "kernelspec": {
   "display_name": "Python 3 (ipykernel)",
   "language": "python",
   "name": "python3"
  },
  "language_info": {
   "codemirror_mode": {
    "name": "ipython",
    "version": 3
   },
   "file_extension": ".py",
   "mimetype": "text/x-python",
   "name": "python",
   "nbconvert_exporter": "python",
   "pygments_lexer": "ipython3",
   "version": "3.12.6"
  }
 },
 "nbformat": 4,
 "nbformat_minor": 5
}
