{
 "cells": [
  {
   "cell_type": "markdown",
   "id": "09bb6f51-898b-4b55-9351-465a04462f98",
   "metadata": {},
   "source": [
    "# Join"
   ]
  },
  {
   "cell_type": "code",
   "execution_count": 3,
   "id": "248beddc-68a6-432f-b253-8afd69e1a9fd",
   "metadata": {},
   "outputs": [
    {
     "name": "stdout",
     "output_type": "stream",
     "text": [
      "[1 2 3 4 9 8 7 6]\n"
     ]
    }
   ],
   "source": [
    "import numpy as np\n",
    "\n",
    "x = np.array([1,2,3,4])\n",
    "y = np.array([9,8,7,6])\n",
    "\n",
    "ar = np.concatenate ((x,y))\n",
    "\n",
    "print(ar)"
   ]
  },
  {
   "cell_type": "code",
   "execution_count": 7,
   "id": "565aca74-37bd-4918-b085-865669843b6c",
   "metadata": {},
   "outputs": [
    {
     "name": "stdout",
     "output_type": "stream",
     "text": [
      "[[1 2]\n",
      " [3 4]]\n",
      "\n",
      "[[9 8]\n",
      " [7 6]]\n",
      "\n",
      "[[1 2]\n",
      " [3 4]\n",
      " [9 8]\n",
      " [7 6]]\n"
     ]
    }
   ],
   "source": [
    "import numpy as np\n",
    "\n",
    "x = np.array([[1,2],[3,4]])\n",
    "y = np.array([[9,8],[7,6]])\n",
    "\n",
    "ar = np.concatenate ((x,y),axis=0)\n",
    "\n",
    "print(x)\n",
    "print()\n",
    "print(y)\n",
    "print()\n",
    "print(ar)"
   ]
  },
  {
   "cell_type": "code",
   "execution_count": 10,
   "id": "769f840a-38ea-4c03-8b87-2ec41f23eeca",
   "metadata": {},
   "outputs": [
    {
     "name": "stdout",
     "output_type": "stream",
     "text": [
      "[[1 2 3 4]]\n",
      "\n",
      "[[9 8 7 6]]\n",
      "\n",
      "[[[1 2 3 4]]\n",
      "\n",
      " [[9 8 7 6]]]\n"
     ]
    }
   ],
   "source": [
    "import numpy as np\n",
    "\n",
    "x = np.array([[1,2,3,4]])\n",
    "y = np.array([[9,8,7,6]])\n",
    "\n",
    "ar = np.stack ((x,y))\n",
    "\n",
    "print(x)\n",
    "print()\n",
    "print(y)\n",
    "print()\n",
    "print(ar)"
   ]
  },
  {
   "cell_type": "code",
   "execution_count": 12,
   "id": "b802e252-df85-4967-b3a9-e624acdcacdf",
   "metadata": {},
   "outputs": [
    {
     "name": "stdout",
     "output_type": "stream",
     "text": [
      "[[1 2 3 4 9 8 7 6]]\n"
     ]
    }
   ],
   "source": [
    "import numpy as np\n",
    "\n",
    "x = np.array([[1,2,3,4]])\n",
    "y = np.array([[9,8,7,6]])\n",
    "\n",
    "ar = np.hstack ((x,y))\n",
    "\n",
    "\n",
    "print(ar)"
   ]
  },
  {
   "cell_type": "code",
   "execution_count": 13,
   "id": "9dbfb8bd-addd-485b-8a84-9d00b96a8ca2",
   "metadata": {},
   "outputs": [
    {
     "name": "stdout",
     "output_type": "stream",
     "text": [
      "[[[1 9]\n",
      "  [2 8]\n",
      "  [3 7]\n",
      "  [4 6]]]\n"
     ]
    }
   ],
   "source": [
    "import numpy as np\n",
    "\n",
    "x = np.array([[1,2,3,4]])\n",
    "y = np.array([[9,8,7,6]])\n",
    "\n",
    "ar = np.dstack ((x,y))\n",
    "\n",
    "\n",
    "print(ar)"
   ]
  },
  {
   "cell_type": "code",
   "execution_count": 15,
   "id": "25d82b30-53c7-4a05-836e-9bc97307bc2e",
   "metadata": {},
   "outputs": [
    {
     "name": "stdout",
     "output_type": "stream",
     "text": [
      "[[[1 9]\n",
      "  [2 8]\n",
      "  [3 7]\n",
      "  [4 6]]]\n",
      "\n",
      "[[1 2 3 4 9 8 7 6]]\n",
      "\n",
      "[[1 2 3 4]\n",
      " [9 8 7 6]]\n",
      "\n",
      "[[[1 9]\n",
      "  [2 8]\n",
      "  [3 7]\n",
      "  [4 6]]]\n"
     ]
    }
   ],
   "source": [
    "import numpy as np\n",
    "\n",
    "x = np.array([[1,2,3,4]])\n",
    "y = np.array([[9,8,7,6]])\n",
    "\n",
    "ar0 = np.dstack ((x,y))\n",
    "ar1 = np.hstack ((x,y))  #row \n",
    "ar2 = np.vstack ((x,y)) #column\n",
    "ar3 = np.dstack ((x,y))  #height\n",
    "\n",
    "\n",
    "print(ar0)\n",
    "print()\n",
    "print(ar1)\n",
    "print()\n",
    "print(ar2)\n",
    "print()\n",
    "print(ar3)"
   ]
  },
  {
   "cell_type": "markdown",
   "id": "bd0df4f3-3b84-4612-a2c8-01299f3565e9",
   "metadata": {},
   "source": [
    "# Split"
   ]
  },
  {
   "cell_type": "code",
   "execution_count": 19,
   "id": "5d10b9c6-44ff-44f8-95f9-850a6319bd9f",
   "metadata": {},
   "outputs": [
    {
     "name": "stdout",
     "output_type": "stream",
     "text": [
      "[1 2 3 4 5 6]\n",
      "\n",
      "[array([1, 2]), array([3, 4]), array([5, 6])]\n",
      "<class 'list'>\n",
      "[1 2]\n"
     ]
    }
   ],
   "source": [
    "import numpy as np\n",
    "\n",
    "var = np.array ([1,2,3,4,5,6])\n",
    "\n",
    "print (var)\n",
    "\n",
    "ar = np.array_split(var,3)\n",
    "\n",
    "print()\n",
    "print(ar)\n",
    "print(type(ar))\n",
    "print(ar[0])"
   ]
  },
  {
   "cell_type": "code",
   "execution_count": 21,
   "id": "10008a55-7246-43bc-a495-d6d8095ac01a",
   "metadata": {},
   "outputs": [
    {
     "name": "stdout",
     "output_type": "stream",
     "text": [
      "[[1 2]\n",
      " [3 4]\n",
      " [5 6]]\n",
      "\n",
      "[array([[1, 2]]), array([[3, 4]]), array([[5, 6]])]\n",
      "\n",
      "[array([[1],\n",
      "       [3],\n",
      "       [5]]), array([[2],\n",
      "       [4],\n",
      "       [6]]), array([], shape=(3, 0), dtype=int64)]\n"
     ]
    }
   ],
   "source": [
    "import numpy as np\n",
    "\n",
    "var1 = np.array ([[1,2],[3,4],[5,6]])\n",
    "\n",
    "print (var1)\n",
    "\n",
    "ar = np.array_split(var1,3)\n",
    "ar1 = np.array_split(var1,3,axis = 1)\n",
    "\n",
    "print()\n",
    "print(ar)\n",
    "print()\n",
    "print(ar1)"
   ]
  },
  {
   "cell_type": "code",
   "execution_count": null,
   "id": "361febca-1f91-4d2a-b0c0-7c49d25544d3",
   "metadata": {},
   "outputs": [],
   "source": []
  }
 ],
 "metadata": {
  "kernelspec": {
   "display_name": "Python 3 (ipykernel)",
   "language": "python",
   "name": "python3"
  },
  "language_info": {
   "codemirror_mode": {
    "name": "ipython",
    "version": 3
   },
   "file_extension": ".py",
   "mimetype": "text/x-python",
   "name": "python",
   "nbconvert_exporter": "python",
   "pygments_lexer": "ipython3",
   "version": "3.12.6"
  }
 },
 "nbformat": 4,
 "nbformat_minor": 5
}
