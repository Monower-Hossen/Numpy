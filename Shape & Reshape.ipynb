{
 "cells": [
  {
   "cell_type": "markdown",
   "id": "5a5974bd-2d35-415a-8912-744d81e6dc5d",
   "metadata": {},
   "source": [
    "## Shape"
   ]
  },
  {
   "cell_type": "code",
   "execution_count": 1,
   "id": "6e87c058-794c-4998-9b02-07137b5d4921",
   "metadata": {},
   "outputs": [
    {
     "name": "stdout",
     "output_type": "stream",
     "text": [
      "[[2 1]\n",
      " [1 2]]\n",
      "\n",
      "(2, 2)\n"
     ]
    }
   ],
   "source": [
    "import numpy as np\n",
    "\n",
    "var = np.array([[2,1],[1,2]])\n",
    "\n",
    "print(var)\n",
    "print()\n",
    "print(var.shape)"
   ]
  },
  {
   "cell_type": "code",
   "execution_count": 2,
   "id": "fcff9324-e922-4617-a50a-5416886382b6",
   "metadata": {},
   "outputs": [
    {
     "name": "stdout",
     "output_type": "stream",
     "text": [
      "[[[[2 1]]]]\n",
      "4\n",
      "\n",
      "(1, 1, 1, 2)\n"
     ]
    }
   ],
   "source": [
    "import numpy as np\n",
    "\n",
    "var = np.array([2,1], ndmin = 4)\n",
    "\n",
    "print(var)\n",
    "print(var.ndim)\n",
    "print()\n",
    "print(var.shape)"
   ]
  },
  {
   "cell_type": "markdown",
   "id": "120f85ba-34c9-4704-8be4-f22fd2b70ef0",
   "metadata": {},
   "source": [
    "## Reshape"
   ]
  },
  {
   "cell_type": "code",
   "execution_count": 4,
   "id": "469a3d96-6df4-4e17-aa53-d970a6064e21",
   "metadata": {},
   "outputs": [
    {
     "name": "stdout",
     "output_type": "stream",
     "text": [
      "[1 2 3 4 5 6]\n",
      "1\n",
      "\n",
      "[[1 2]\n",
      " [3 4]\n",
      " [5 6]]\n",
      "2\n"
     ]
    }
   ],
   "source": [
    "var2 = np.array([1,2,3,4,5,6])\n",
    "print(var2)\n",
    "print(var2.ndim)\n",
    "print()\n",
    "x = var2.reshape(3,2)\n",
    "\n",
    "print(x)\n",
    "print(x.ndim)"
   ]
  },
  {
   "cell_type": "code",
   "execution_count": 6,
   "id": "42c0d1be-ec57-4450-8b86-29ba74ed4616",
   "metadata": {},
   "outputs": [
    {
     "name": "stdout",
     "output_type": "stream",
     "text": [
      "[1 2 3 2 4 5 4 5 6 3 4 5]\n",
      "1\n",
      "\n",
      "[[[1 2]\n",
      "  [3 2]\n",
      "  [4 5]]\n",
      "\n",
      " [[4 5]\n",
      "  [6 3]\n",
      "  [4 5]]]\n",
      "3\n"
     ]
    }
   ],
   "source": [
    "var3 = np.array([1,2,3,2,4,5,4,5,6,3,4,5])\n",
    "print(var3)\n",
    "print(var2.ndim)\n",
    "print()\n",
    "x1 = var3.reshape(2,3,2 )\n",
    "\n",
    "print(x1)\n",
    "print(x1.ndim)"
   ]
  },
  {
   "cell_type": "code",
   "execution_count": 7,
   "id": "a12c9b11-addd-471b-bc2c-be6ea51f2e6f",
   "metadata": {},
   "outputs": [
    {
     "name": "stdout",
     "output_type": "stream",
     "text": [
      "[1 2 3 2 4 5 4 5 6 3 4 5]\n",
      "1\n",
      "\n",
      "[[[1 2]\n",
      "  [3 2]\n",
      "  [4 5]]\n",
      "\n",
      " [[4 5]\n",
      "  [6 3]\n",
      "  [4 5]]]\n",
      "3\n",
      "\n",
      "[1 2 3 2 4 5 4 5 6 3 4 5]\n",
      "1\n"
     ]
    }
   ],
   "source": [
    "var3 = np.array([1,2,3,2,4,5,4,5,6,3,4,5])\n",
    "print(var3)\n",
    "print(var2.ndim)\n",
    "print()\n",
    "x1 = var3.reshape(2,3,2 )\n",
    "\n",
    "print(x1)\n",
    "print(x1.ndim)\n",
    "print()\n",
    "\n",
    "one =x1.reshape(-1)\n",
    "print(one)\n",
    "print(one.ndim)"
   ]
  },
  {
   "cell_type": "code",
   "execution_count": null,
   "id": "f68ae8fd-eae1-4fe4-8cda-17545384fddc",
   "metadata": {},
   "outputs": [],
   "source": []
  }
 ],
 "metadata": {
  "kernelspec": {
   "display_name": "Python 3 (ipykernel)",
   "language": "python",
   "name": "python3"
  },
  "language_info": {
   "codemirror_mode": {
    "name": "ipython",
    "version": 3
   },
   "file_extension": ".py",
   "mimetype": "text/x-python",
   "name": "python",
   "nbconvert_exporter": "python",
   "pygments_lexer": "ipython3",
   "version": "3.12.6"
  }
 },
 "nbformat": 4,
 "nbformat_minor": 5
}
