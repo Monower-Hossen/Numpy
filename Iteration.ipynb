{
 "cells": [
  {
   "cell_type": "markdown",
   "id": "01585445-911d-4ab5-bce5-e65bdf29b0d2",
   "metadata": {},
   "source": [
    "# Iteration"
   ]
  },
  {
   "cell_type": "code",
   "execution_count": 2,
   "id": "83441619-fe39-42c4-bbe0-f9f82ef0248b",
   "metadata": {},
   "outputs": [
    {
     "name": "stdout",
     "output_type": "stream",
     "text": [
      "[9 8 7 6 5 4]\n",
      "\n",
      "9\n",
      "8\n",
      "7\n",
      "6\n",
      "5\n",
      "4\n"
     ]
    }
   ],
   "source": [
    "import numpy as np\n",
    "\n",
    "var = np.array([9,8,7,6,5,4])\n",
    "\n",
    "print(var)\n",
    "print()\n",
    "for i in var : \n",
    "    print(i)"
   ]
  },
  {
   "cell_type": "code",
   "execution_count": 2,
   "id": "b3f45f1e-7ec1-40dc-95c2-95628508175b",
   "metadata": {},
   "outputs": [
    {
     "name": "stdout",
     "output_type": "stream",
     "text": [
      "[[1 2 3 4]\n",
      " [1 2 3 4]]\n",
      "\n",
      "[1 2 3 4]\n",
      "[1 2 3 4]\n",
      "\n",
      "1\n",
      "2\n",
      "3\n",
      "4\n",
      "1\n",
      "2\n",
      "3\n",
      "4\n"
     ]
    }
   ],
   "source": [
    "import numpy as np\n",
    "var1 = np.array([[1,2,3,4],[1,2,3,4]])\n",
    "\n",
    "print(var1)\n",
    "print()\n",
    "\n",
    "for j in var1 : \n",
    "    print(j)\n",
    "\n",
    "print()\n",
    "\n",
    "for k in var1:\n",
    "    for i in k:\n",
    "        print(i)"
   ]
  },
  {
   "cell_type": "code",
   "execution_count": 2,
   "id": "5ee8f721-2a49-4c83-977b-0613fe492fb0",
   "metadata": {},
   "outputs": [
    {
     "name": "stdout",
     "output_type": "stream",
     "text": [
      "[[1 2 3 4]\n",
      " [1 2 3 4]]\n",
      "\n",
      "[1 2 3 4]\n",
      "[1 2 3 4]\n",
      "\n",
      "1\n",
      "2\n",
      "3\n",
      "4\n",
      "1\n",
      "2\n",
      "3\n",
      "4\n"
     ]
    }
   ],
   "source": [
    "import numpy as np\n",
    "var1 = np.array([[1,2,3,4],[1,2,3,4]])\n",
    "\n",
    "print(var1)\n",
    "print()\n",
    "\n",
    "for j in var1 : \n",
    "    print(j)\n",
    "\n",
    "print()\n",
    "\n",
    "for k in var1:\n",
    "    for i in k:\n",
    "        print(i)"
   ]
  },
  {
   "cell_type": "code",
   "execution_count": 7,
   "id": "f4f38ca6-3a84-4f4c-9c93-00c13cbb8487",
   "metadata": {},
   "outputs": [
    {
     "name": "stdout",
     "output_type": "stream",
     "text": [
      "[[[9 8 7 6]\n",
      "  [1 2 3 4]]]\n",
      "3\n",
      "\n",
      "np.bytes_(b'9')\n",
      "np.bytes_(b'8')\n",
      "np.bytes_(b'7')\n",
      "np.bytes_(b'6')\n",
      "np.bytes_(b'1')\n",
      "np.bytes_(b'2')\n",
      "np.bytes_(b'3')\n",
      "np.bytes_(b'4')\n"
     ]
    }
   ],
   "source": [
    "import numpy as np\n",
    "var2 = np.array([[[9,8,7,6],[1,2,3,4]]])\n",
    "\n",
    "print(var2)\n",
    "print(var2.ndim)\n",
    "print()\n",
    "\n",
    "for i in np.nditer(var2,flags = ['buffered'],op_dtypes = ['S']):\n",
    "    print(i)"
   ]
  },
  {
   "cell_type": "code",
   "execution_count": 9,
   "id": "a62d0970-8974-4771-ad1b-b5e7c0ac1e13",
   "metadata": {},
   "outputs": [
    {
     "name": "stdout",
     "output_type": "stream",
     "text": [
      "[[[9 8 7 6]\n",
      "  [1 2 3 4]]]\n",
      "3\n",
      "\n",
      "(0, 0, 0) 9\n",
      "(0, 0, 1) 8\n",
      "(0, 0, 2) 7\n",
      "(0, 0, 3) 6\n",
      "(0, 1, 0) 1\n",
      "(0, 1, 1) 2\n",
      "(0, 1, 2) 3\n",
      "(0, 1, 3) 4\n"
     ]
    }
   ],
   "source": [
    "import numpy as np\n",
    "var2 = np.array([[[9,8,7,6],[1,2,3,4]]])\n",
    "\n",
    "print(var2)\n",
    "print(var2.ndim)\n",
    "print()\n",
    "\n",
    "for i,d in np.ndenumerate (var2):\n",
    "    print(i,d)"
   ]
  },
  {
   "cell_type": "code",
   "execution_count": null,
   "id": "3eb90c3c-d9e4-4fb0-a14e-f783d023a397",
   "metadata": {},
   "outputs": [],
   "source": []
  }
 ],
 "metadata": {
  "kernelspec": {
   "display_name": "Python 3 (ipykernel)",
   "language": "python",
   "name": "python3"
  },
  "language_info": {
   "codemirror_mode": {
    "name": "ipython",
    "version": 3
   },
   "file_extension": ".py",
   "mimetype": "text/x-python",
   "name": "python",
   "nbconvert_exporter": "python",
   "pygments_lexer": "ipython3",
   "version": "3.12.6"
  }
 },
 "nbformat": 4,
 "nbformat_minor": 5
}
