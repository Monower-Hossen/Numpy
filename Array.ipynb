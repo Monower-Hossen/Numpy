{
 "cells": [
  {
   "cell_type": "markdown",
   "id": "64b7a619-eab3-482d-a13d-ff20d77aabd4",
   "metadata": {},
   "source": [
    "## Array"
   ]
  },
  {
   "cell_type": "code",
   "execution_count": 3,
   "id": "e51b13f8-7623-42c0-9f85-ebe0c8301d24",
   "metadata": {},
   "outputs": [
    {
     "name": "stdout",
     "output_type": "stream",
     "text": [
      "[1 2 3 4]\n",
      "<class 'numpy.ndarray'>\n"
     ]
    }
   ],
   "source": [
    "import numpy as np\n",
    "\n",
    "x = np.array([1,2,3,4])\n",
    "print (x)\n",
    "print(type(x))"
   ]
  },
  {
   "cell_type": "code",
   "execution_count": 4,
   "id": "f98f2a06-5dcd-4d26-9c03-a6c6c983e591",
   "metadata": {},
   "outputs": [
    {
     "name": "stdout",
     "output_type": "stream",
     "text": [
      "[1, 2, 3, 4]\n",
      "<class 'list'>\n"
     ]
    }
   ],
   "source": [
    "y = [1,2,3,4]\n",
    "print(y)\n",
    "print(type(y))"
   ]
  },
  {
   "cell_type": "code",
   "execution_count": 7,
   "id": "ab5d4ea9-2d92-4abf-8e30-114cdcb72f07",
   "metadata": {},
   "outputs": [
    {
     "name": "stdin",
     "output_type": "stream",
     "text": [
      "enter : 2\n",
      "enter : 3\n",
      "enter : 36\n",
      "enter : 3\n"
     ]
    },
    {
     "name": "stdout",
     "output_type": "stream",
     "text": [
      "[ 2  3 36  3]\n"
     ]
    }
   ],
   "source": [
    "l = []\n",
    "for i in range (1,5):\n",
    "     int_l = int(input(\"enter :\"))\n",
    "     l.append(int_l)\n",
    "\n",
    "print(np.array(l))\n"
   ]
  },
  {
   "cell_type": "markdown",
   "id": "30980d66-5234-4a6d-8f0d-43783ff58569",
   "metadata": {},
   "source": [
    "## 0-D Arrays"
   ]
  },
  {
   "cell_type": "markdown",
   "id": "b116e170-4be2-4edb-9a99-68fc373f8bb3",
   "metadata": {},
   "source": [
    "0-D arrays, or Scalars, are the elements in an array. Each value in an array is a 0-D array."
   ]
  },
  {
   "cell_type": "code",
   "execution_count": 10,
   "id": "f678c99e-4945-4206-86da-30e5a35bbb4c",
   "metadata": {},
   "outputs": [
    {
     "name": "stdout",
     "output_type": "stream",
     "text": [
      "42\n"
     ]
    }
   ],
   "source": [
    "import numpy as np\n",
    "\n",
    "arr = np.array(42)\n",
    "\n",
    "print(arr)"
   ]
  },
  {
   "cell_type": "markdown",
   "id": "ed85c63d-e36c-4f13-a5a2-58f9d6a59712",
   "metadata": {},
   "source": [
    "## 1-D Array"
   ]
  },
  {
   "cell_type": "markdown",
   "id": "7a4b21dc-77b4-4f37-ac82-ac7ab6c360e3",
   "metadata": {},
   "source": [
    "An array that has 0-D arrays as its elements is called uni-dimensional or 1-D array.\n",
    "These are the most common and basic arrays."
   ]
  },
  {
   "cell_type": "code",
   "execution_count": 9,
   "id": "3f0f9ceb-48c8-49db-8415-71557869e049",
   "metadata": {},
   "outputs": [
    {
     "name": "stdout",
     "output_type": "stream",
     "text": [
      "[1 2 3 4 5]\n",
      "1\n"
     ]
    }
   ],
   "source": [
    "import numpy as np\n",
    "\n",
    "arr = np.array([1, 2, 3, 4, 5])\n",
    "\n",
    "print(arr)\n",
    "print (arr.ndim)"
   ]
  },
  {
   "cell_type": "markdown",
   "id": "1d0c89cc-dad4-4717-b7db-bce2b079f7a7",
   "metadata": {},
   "source": [
    "## 2-D Arrays"
   ]
  },
  {
   "cell_type": "code",
   "execution_count": null,
   "id": "5735a02f-0114-46be-b43b-661f5f4d66db",
   "metadata": {},
   "outputs": [],
   "source": [
    "An array that has 1-D arrays as its elements is called a 2-D array.\n",
    "These are often used to represent matrix or 2nd order tensors"
   ]
  },
  {
   "cell_type": "code",
   "execution_count": 12,
   "id": "e0210d7b-1dfc-402c-bd7d-2e4f3840a568",
   "metadata": {},
   "outputs": [
    {
     "name": "stdout",
     "output_type": "stream",
     "text": [
      "[[1 2 3]\n",
      " [4 5 6]]\n",
      "2\n"
     ]
    }
   ],
   "source": [
    "import numpy as np\n",
    "\n",
    "arr = np.array([[1, 2, 3], [4, 5, 6]])\n",
    "\n",
    "print(arr)\n",
    "print(arr.ndim)"
   ]
  },
  {
   "cell_type": "markdown",
   "id": "96361781-a6a9-44ff-9507-6522aa024fab",
   "metadata": {},
   "source": [
    "## 3-D arrays"
   ]
  },
  {
   "cell_type": "markdown",
   "id": "9811f762-b262-4b15-8083-99cc553074b7",
   "metadata": {},
   "source": [
    "An array that has 2-D arrays (matrices) as its elements is called 3-D array."
   ]
  },
  {
   "cell_type": "code",
   "execution_count": 13,
   "id": "de5e7c1f-d34f-4b25-a4f8-be185108c982",
   "metadata": {},
   "outputs": [
    {
     "name": "stdout",
     "output_type": "stream",
     "text": [
      "[[[1 2 3]\n",
      "  [4 5 6]]\n",
      "\n",
      " [[1 2 3]\n",
      "  [4 5 6]]]\n",
      "3\n"
     ]
    }
   ],
   "source": [
    "import numpy as np\n",
    "\n",
    "arr = np.array([[[1, 2, 3], [4, 5, 6]], [[1, 2, 3], [4, 5, 6]]])\n",
    "\n",
    "print(arr)\n",
    "print(arr.ndim)"
   ]
  },
  {
   "cell_type": "markdown",
   "id": "59f2818a-0d65-4e3c-9681-825b548fa559",
   "metadata": {},
   "source": [
    "## 10-D Array"
   ]
  },
  {
   "cell_type": "code",
   "execution_count": 1,
   "id": "c2288622-3552-4887-bb3c-225b403a2db0",
   "metadata": {},
   "outputs": [
    {
     "name": "stdout",
     "output_type": "stream",
     "text": [
      "[[[[[[[[[[1 2 3 4]]]]]]]]]]\n",
      "10\n"
     ]
    }
   ],
   "source": [
    "import numpy as np\n",
    "arr = np.array([1,2,3,4],ndmin = 10)\n",
    "print(arr)\n",
    "print(arr.ndim)"
   ]
  },
  {
   "cell_type": "markdown",
   "id": "706053f3-13de-46fe-a6d2-aaeddb0d4802",
   "metadata": {},
   "source": [
    "## Zeros"
   ]
  },
  {
   "cell_type": "code",
   "execution_count": 7,
   "id": "437468a8-b865-446a-a505-58000434df4f",
   "metadata": {},
   "outputs": [
    {
     "name": "stdout",
     "output_type": "stream",
     "text": [
      "[0. 0. 0. 0.]\n",
      "\n",
      "[[0. 0. 0. 0.]\n",
      " [0. 0. 0. 0.]\n",
      " [0. 0. 0. 0.]]\n"
     ]
    }
   ],
   "source": [
    "import numpy as np\n",
    "\n",
    "ar_zero = np.zeros(4)\n",
    "ar_zero1 = np.zeros((3,4))\n",
    "\n",
    "print(ar_zero)\n",
    "print()\n",
    "print(ar_zero1)\n"
   ]
  },
  {
   "cell_type": "markdown",
   "id": "de274e72-51fa-48c6-8116-89a46820a8fe",
   "metadata": {},
   "source": [
    "## Ones"
   ]
  },
  {
   "cell_type": "code",
   "execution_count": 8,
   "id": "ab6bcb36-c089-4625-b386-82e4aca16971",
   "metadata": {},
   "outputs": [
    {
     "name": "stdout",
     "output_type": "stream",
     "text": [
      "[1. 1. 1. 1.]\n"
     ]
    }
   ],
   "source": [
    "ar_one = np.ones(4)\n",
    "\n",
    "print(ar_one)"
   ]
  },
  {
   "cell_type": "markdown",
   "id": "643a93f7-8199-4868-a4af-a2eb4ae1eb76",
   "metadata": {},
   "source": [
    "## Empty"
   ]
  },
  {
   "cell_type": "code",
   "execution_count": 9,
   "id": "3d3c41d3-6bf9-4e11-95a3-81fe4752a4ba",
   "metadata": {},
   "outputs": [
    {
     "name": "stdout",
     "output_type": "stream",
     "text": [
      "[1. 1. 1. 1.]\n"
     ]
    }
   ],
   "source": [
    "E = np.empty(4)\n",
    "print(E)"
   ]
  },
  {
   "cell_type": "markdown",
   "id": "50ee17b5-95fb-40ff-ba51-9effd3c8a644",
   "metadata": {},
   "source": [
    "## Range"
   ]
  },
  {
   "cell_type": "code",
   "execution_count": 11,
   "id": "207549bb-27af-4e13-a088-053dcd6c5c48",
   "metadata": {},
   "outputs": [
    {
     "name": "stdout",
     "output_type": "stream",
     "text": [
      "[0 1 2 3]\n"
     ]
    }
   ],
   "source": [
    "Ar_R = np.arange(4)\n",
    "print(Ar_R)"
   ]
  },
  {
   "cell_type": "markdown",
   "id": "a1447029-848f-4259-b5c6-11b9652c4aea",
   "metadata": {},
   "source": [
    "## Diagonal"
   ]
  },
  {
   "cell_type": "code",
   "execution_count": 12,
   "id": "6df44fa2-9a6c-4ea5-a3f1-477f3b699572",
   "metadata": {},
   "outputs": [
    {
     "name": "stdout",
     "output_type": "stream",
     "text": [
      "[[1. 0. 0.]\n",
      " [0. 1. 0.]\n",
      " [0. 0. 1.]]\n"
     ]
    }
   ],
   "source": [
    "ar_dia = np.eye(3)\n",
    "print(ar_dia)"
   ]
  },
  {
   "cell_type": "code",
   "execution_count": 13,
   "id": "1091859c-c4f5-4c5a-96b4-08e8d15e7f80",
   "metadata": {},
   "outputs": [
    {
     "name": "stdout",
     "output_type": "stream",
     "text": [
      "[[1. 0. 0. 0. 0.]\n",
      " [0. 1. 0. 0. 0.]\n",
      " [0. 0. 1. 0. 0.]]\n"
     ]
    }
   ],
   "source": [
    "ar_dia = np.eye(3,5)\n",
    "print(ar_dia)"
   ]
  },
  {
   "cell_type": "markdown",
   "id": "cdfd8a13-2193-4e1f-94ab-fb80c43b5708",
   "metadata": {},
   "source": [
    "## Linspace"
   ]
  },
  {
   "cell_type": "code",
   "execution_count": 16,
   "id": "0049aa7a-b22d-4701-9bdc-8ca7ded87634",
   "metadata": {},
   "outputs": [
    {
     "name": "stdout",
     "output_type": "stream",
     "text": [
      "[ 0.   2.5  5.   7.5 10. ]\n"
     ]
    }
   ],
   "source": [
    "ar_line = np.linspace(0,10,num=5)\n",
    "print(ar_line)"
   ]
  },
  {
   "cell_type": "markdown",
   "id": "9f3f5fb5-12f0-49b0-b50b-21d8068d51d4",
   "metadata": {},
   "source": [
    "## Random"
   ]
  },
  {
   "cell_type": "markdown",
   "id": "3da5f45b-2ee1-41bf-9349-a981f43f1c3a",
   "metadata": {},
   "source": [
    "Random number does NOT mean a different number every time. Random means something that can not be predicted logically."
   ]
  },
  {
   "cell_type": "markdown",
   "id": "1666278e-372b-4cc9-b1f5-f77cd98fd159",
   "metadata": {},
   "source": [
    "## Rand()"
   ]
  },
  {
   "cell_type": "markdown",
   "id": "0c639afa-5e48-44bb-8ec8-68a26a478d55",
   "metadata": {},
   "source": [
    "The random module's rand() method returns a random float between 0 and 1."
   ]
  },
  {
   "cell_type": "code",
   "execution_count": 19,
   "id": "a038f3d5-13cd-4b8e-a05e-2d44b4341f24",
   "metadata": {},
   "outputs": [
    {
     "name": "stdout",
     "output_type": "stream",
     "text": [
      "[0.90640932 0.12055059 0.07463787 0.0549088 ]\n"
     ]
    }
   ],
   "source": [
    "import numpy as np\n",
    "var = np.random.rand(4)\n",
    "print(var)"
   ]
  },
  {
   "cell_type": "code",
   "execution_count": 20,
   "id": "2a02e6e1-5f69-47a6-97c4-f3c5478aad63",
   "metadata": {},
   "outputs": [
    {
     "name": "stdout",
     "output_type": "stream",
     "text": [
      "[[0.559731   0.58805127 0.74088782 0.55276716 0.36652741]\n",
      " [0.87223087 0.13065484 0.25789314 0.11634395 0.36436147]]\n"
     ]
    }
   ],
   "source": [
    "import numpy as np\n",
    "var1 = np.random.rand(2,5)\n",
    "print(var1)"
   ]
  },
  {
   "cell_type": "markdown",
   "id": "edf1b1c7-5191-49ea-be9e-cb7d6ddc7e56",
   "metadata": {},
   "source": [
    "## randn()"
   ]
  },
  {
   "cell_type": "markdown",
   "id": "5201d75a-7877-42a2-92a0-81b653e65b61",
   "metadata": {},
   "source": [
    "The randint() method takes a size parameter where you can specify the shape of an array."
   ]
  },
  {
   "cell_type": "code",
   "execution_count": 22,
   "id": "e6994730-e740-48ee-9c14-fdb5b5bf9b44",
   "metadata": {},
   "outputs": [
    {
     "name": "stdout",
     "output_type": "stream",
     "text": [
      "[ 1.30330279  0.46669668 -0.15699487 -0.0334122   0.4080192 ]\n"
     ]
    }
   ],
   "source": [
    "import numpy as np\n",
    "var2 = np.random.randn(5)\n",
    "print(var2)"
   ]
  },
  {
   "cell_type": "markdown",
   "id": "10b24b04-03db-4fc9-b9a9-2d9b99e859a5",
   "metadata": {},
   "source": [
    "## ranf()"
   ]
  },
  {
   "cell_type": "code",
   "execution_count": 24,
   "id": "0b1009b0-9dfc-49fa-a674-82eba966f6ff",
   "metadata": {},
   "outputs": [
    {
     "name": "stdout",
     "output_type": "stream",
     "text": [
      "[0.6926573  0.61098119 0.8420711  0.29976308 0.13252074]\n"
     ]
    }
   ],
   "source": [
    "import numpy as np\n",
    "var3 = np.random.ranf(5)\n",
    "print(var3)"
   ]
  },
  {
   "cell_type": "markdown",
   "id": "34755eff-ac95-4b78-9daa-b2515c680108",
   "metadata": {},
   "source": [
    "## randint()"
   ]
  },
  {
   "cell_type": "code",
   "execution_count": 25,
   "id": "5b3ebb12-e364-4977-9541-2c1577d4fb7f",
   "metadata": {},
   "outputs": [
    {
     "name": "stdout",
     "output_type": "stream",
     "text": [
      "[ 6  6 19 12]\n"
     ]
    }
   ],
   "source": [
    "import numpy as np\n",
    "var4 = np.random.randint(5,20,4)\n",
    "print(var4)"
   ]
  },
  {
   "cell_type": "code",
   "execution_count": null,
   "id": "a6dc0159-292d-4abf-985f-e539d24c431e",
   "metadata": {},
   "outputs": [],
   "source": []
  }
 ],
 "metadata": {
  "kernelspec": {
   "display_name": "Python 3 (ipykernel)",
   "language": "python",
   "name": "python3"
  },
  "language_info": {
   "codemirror_mode": {
    "name": "ipython",
    "version": 3
   },
   "file_extension": ".py",
   "mimetype": "text/x-python",
   "name": "python",
   "nbconvert_exporter": "python",
   "pygments_lexer": "ipython3",
   "version": "3.12.6"
  }
 },
 "nbformat": 4,
 "nbformat_minor": 5
}
